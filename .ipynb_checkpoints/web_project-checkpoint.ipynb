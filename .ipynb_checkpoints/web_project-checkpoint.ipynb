{
 "cells": [
  {
   "cell_type": "code",
   "execution_count": 1,
   "id": "1d286725-03c6-41aa-acab-9b86abe7f2a3",
   "metadata": {},
   "outputs": [],
   "source": [
    "from selenium import webdriver\n",
    "from selenium.webdriver.chrome.service import Service\n",
    "from selenium.webdriver.chrome.options import Options\n",
    "from selenium.webdriver.common.desired_capabilities import DesiredCapabilities\n",
    "from scrapy import Selector\n",
    "from tqdm import tqdm\n",
    "import pandas as pd\n",
    "import time"
   ]
  },
  {
   "cell_type": "code",
   "execution_count": 2,
   "id": "f57390de-effe-4d08-9387-4bdd8a055fa6",
   "metadata": {},
   "outputs": [],
   "source": [
    "chrome_options = Options()\n",
    "chrome_options.add_argument('--headless')\n",
    "chrome_options.add_argument('--disable-gpu')\n",
    "chrome_options.add_argument('--window-size=1920x1080')"
   ]
  },
  {
   "cell_type": "code",
   "execution_count": 3,
   "id": "e54cd3a7-cb21-4104-ab5d-8c8e9ec99298",
   "metadata": {},
   "outputs": [],
   "source": [
    "caps = DesiredCapabilities().CHROME\n",
    "caps[\"pageLoadStrategy\"] = \"normal\"\n",
    "caps[\"goog:loggingPrefs\"] = {\"performance\": \"ALL\"}\n",
    "caps[\"goog:chromeOptions\"] = {\"args\": [\"--disable-gpu\", \"--headless\"]}\n",
    "caps[\"chromeOptions\"] = {\"args\": [\"--disable-gpu\", \"--headless\"]}"
   ]
  },
  {
   "cell_type": "code",
   "execution_count": 4,
   "id": "605d5e43-1f50-4b34-be35-802fe2dd877d",
   "metadata": {},
   "outputs": [],
   "source": [
    "driver = webdriver.Chrome(options=chrome_options)"
   ]
  },
  {
   "cell_type": "code",
   "execution_count": 5,
   "id": "c3d38415-0a31-41d3-ab9b-69000bdf04b3",
   "metadata": {},
   "outputs": [
    {
     "data": {
      "text/plain": [
       "{}"
      ]
     },
     "execution_count": 5,
     "metadata": {},
     "output_type": "execute_result"
    }
   ],
   "source": [
    "driver.execute_cdp_cmd(\n",
    "    'Network.setUserAgentOverride',\n",
    "    {\"userAgent\": \"Mozilla/5.0 (Windows NT 10.0; Win64; x64) AppleWebKit/537.36 (KHTML, like Gecko) Chrome/91.0.4472.124 Safari/537.36\"}\n",
    ")"
   ]
  },
  {
   "cell_type": "code",
   "execution_count": 6,
   "id": "93f33fb4-fe31-4e8c-974a-404f01c42dc7",
   "metadata": {},
   "outputs": [],
   "source": [
    "driver.get('https://pk.indeed.com/l-gujranwala-jobs.html?vjk=7a7c405b6f73b339')"
   ]
  },
  {
   "cell_type": "code",
   "execution_count": 8,
   "id": "4e7c74af-21a1-491f-8510-c51297ac065f",
   "metadata": {},
   "outputs": [],
   "source": [
    "sel = Selector(text=driver.page_source)"
   ]
  },
  {
   "cell_type": "code",
   "execution_count": 9,
   "id": "50ab086a-1faa-4cec-9bb2-9c8291fe4af1",
   "metadata": {},
   "outputs": [],
   "source": [
    "jobs = {'Title':[], 'Location':[], 'Salary':[], 'Job Type1':[], 'Job Type2':[], 'Job Type3':[], 'Job Description':[]}"
   ]
  },
  {
   "cell_type": "code",
   "execution_count": 10,
   "id": "6ba78792-e382-4921-8dc9-ee33980c5854",
   "metadata": {},
   "outputs": [],
   "source": [
    "pages = sel.xpath('//a[@data-testid=\"pagination-page-next\"]')"
   ]
  },
  {
   "cell_type": "code",
   "execution_count": 11,
   "id": "7f8a3ce2-2c05-48bc-9dcc-2ae0be419d7e",
   "metadata": {
    "scrolled": true
   },
   "outputs": [
    {
     "name": "stdout",
     "output_type": "stream",
     "text": [
      "Page: 1\n"
     ]
    },
    {
     "name": "stderr",
     "output_type": "stream",
     "text": [
      "100%|███████████████████████████████████████████| 15/15 [00:32<00:00,  2.15s/it]\n"
     ]
    },
    {
     "name": "stdout",
     "output_type": "stream",
     "text": [
      "Page: 2\n"
     ]
    },
    {
     "name": "stderr",
     "output_type": "stream",
     "text": [
      "100%|███████████████████████████████████████████| 15/15 [00:32<00:00,  2.15s/it]\n"
     ]
    },
    {
     "name": "stdout",
     "output_type": "stream",
     "text": [
      "Page: 3\n"
     ]
    },
    {
     "name": "stderr",
     "output_type": "stream",
     "text": [
      "100%|███████████████████████████████████████████| 15/15 [00:32<00:00,  2.15s/it]\n"
     ]
    },
    {
     "name": "stdout",
     "output_type": "stream",
     "text": [
      "Page: 4\n"
     ]
    },
    {
     "name": "stderr",
     "output_type": "stream",
     "text": [
      "100%|███████████████████████████████████████████| 15/15 [00:32<00:00,  2.15s/it]\n"
     ]
    },
    {
     "name": "stdout",
     "output_type": "stream",
     "text": [
      "Page: 5\n"
     ]
    },
    {
     "name": "stderr",
     "output_type": "stream",
     "text": [
      "100%|███████████████████████████████████████████| 15/15 [00:32<00:00,  2.16s/it]\n"
     ]
    },
    {
     "name": "stdout",
     "output_type": "stream",
     "text": [
      "Page: 6\n"
     ]
    },
    {
     "name": "stderr",
     "output_type": "stream",
     "text": [
      "100%|███████████████████████████████████████████| 15/15 [00:32<00:00,  2.16s/it]\n"
     ]
    },
    {
     "name": "stdout",
     "output_type": "stream",
     "text": [
      "Page: 7\n"
     ]
    },
    {
     "name": "stderr",
     "output_type": "stream",
     "text": [
      "100%|███████████████████████████████████████████| 15/15 [00:32<00:00,  2.16s/it]\n"
     ]
    },
    {
     "name": "stdout",
     "output_type": "stream",
     "text": [
      "Page: 8\n"
     ]
    },
    {
     "name": "stderr",
     "output_type": "stream",
     "text": [
      "100%|███████████████████████████████████████████| 15/15 [00:32<00:00,  2.17s/it]\n"
     ]
    },
    {
     "name": "stdout",
     "output_type": "stream",
     "text": [
      "Page: 9\n"
     ]
    },
    {
     "name": "stderr",
     "output_type": "stream",
     "text": [
      "100%|███████████████████████████████████████████| 15/15 [00:32<00:00,  2.16s/it]\n"
     ]
    },
    {
     "name": "stdout",
     "output_type": "stream",
     "text": [
      "Page: 10\n"
     ]
    },
    {
     "name": "stderr",
     "output_type": "stream",
     "text": [
      "100%|███████████████████████████████████████████| 15/15 [00:32<00:00,  2.15s/it]\n"
     ]
    },
    {
     "name": "stdout",
     "output_type": "stream",
     "text": [
      "Page: 11\n"
     ]
    },
    {
     "name": "stderr",
     "output_type": "stream",
     "text": [
      "100%|███████████████████████████████████████████| 15/15 [00:32<00:00,  2.16s/it]\n"
     ]
    },
    {
     "name": "stdout",
     "output_type": "stream",
     "text": [
      "Page: 12\n"
     ]
    },
    {
     "name": "stderr",
     "output_type": "stream",
     "text": [
      "100%|█████████████████████████████████████████████| 5/5 [00:10<00:00,  2.12s/it]\n"
     ]
    },
    {
     "ename": "NoSuchElementException",
     "evalue": "Message: no such element: Unable to locate element: {\"method\":\"xpath\",\"selector\":\"//a[@data-testid=\"pagination-page-next\"]\"}\n  (Session info: chrome-headless-shell=125.0.6422.142); For documentation on this error, please visit: https://www.selenium.dev/documentation/webdriver/troubleshooting/errors#no-such-element-exception\nStacktrace:\n0   chromedriver                        0x00000001028376b8 chromedriver + 6149816\n1   chromedriver                        0x000000010282ecda chromedriver + 6114522\n2   chromedriver                        0x00000001022bbd5c chromedriver + 400732\n3   chromedriver                        0x0000000102308aa5 chromedriver + 715429\n4   chromedriver                        0x0000000102308bf1 chromedriver + 715761\n5   chromedriver                        0x000000010234ddd4 chromedriver + 998868\n6   chromedriver                        0x000000010232bcdd chromedriver + 859357\n7   chromedriver                        0x000000010234b0db chromedriver + 987355\n8   chromedriver                        0x000000010232ba53 chromedriver + 858707\n9   chromedriver                        0x00000001022fb6d5 chromedriver + 661205\n10  chromedriver                        0x00000001022fbf6e chromedriver + 663406\n11  chromedriver                        0x00000001027f8cf0 chromedriver + 5893360\n12  chromedriver                        0x00000001027fe4bc chromedriver + 5915836\n13  chromedriver                        0x00000001027da8b4 chromedriver + 5769396\n14  chromedriver                        0x00000001027fef89 chromedriver + 5918601\n15  chromedriver                        0x00000001027cbec4 chromedriver + 5709508\n16  chromedriver                        0x000000010281f008 chromedriver + 6049800\n17  chromedriver                        0x000000010281f1c7 chromedriver + 6050247\n18  chromedriver                        0x000000010282e88e chromedriver + 6113422\n19  libsystem_pthread.dylib             0x00007fff2043b8fc _pthread_start + 224\n20  libsystem_pthread.dylib             0x00007fff20437443 thread_start + 15\n",
     "output_type": "error",
     "traceback": [
      "\u001b[0;31m---------------------------------------------------------------------------\u001b[0m",
      "\u001b[0;31mNoSuchElementException\u001b[0m                    Traceback (most recent call last)",
      "Cell \u001b[0;32mIn[11], line 28\u001b[0m\n\u001b[1;32m     26\u001b[0m         jobs[\u001b[38;5;124m'\u001b[39m\u001b[38;5;124mJob Type3\u001b[39m\u001b[38;5;124m'\u001b[39m]\u001b[38;5;241m.\u001b[39mappend(\u001b[38;5;28;01mNone\u001b[39;00m)\n\u001b[1;32m     27\u001b[0m     jobs[\u001b[38;5;124m'\u001b[39m\u001b[38;5;124mJob Description\u001b[39m\u001b[38;5;124m'\u001b[39m]\u001b[38;5;241m.\u001b[39mappend(sel\u001b[38;5;241m.\u001b[39mxpath(\u001b[38;5;124m'\u001b[39m\u001b[38;5;124m//div[@id=\u001b[39m\u001b[38;5;124m\"\u001b[39m\u001b[38;5;124mjobDescriptionText\u001b[39m\u001b[38;5;124m\"\u001b[39m\u001b[38;5;124m]/p/text()\u001b[39m\u001b[38;5;124m'\u001b[39m)\u001b[38;5;241m.\u001b[39mextract())\n\u001b[0;32m---> 28\u001b[0m driver\u001b[38;5;241m.\u001b[39mfind_element(\u001b[38;5;124m'\u001b[39m\u001b[38;5;124mxpath\u001b[39m\u001b[38;5;124m'\u001b[39m, \u001b[38;5;124m'\u001b[39m\u001b[38;5;124m//a[@data-testid=\u001b[39m\u001b[38;5;124m\"\u001b[39m\u001b[38;5;124mpagination-page-next\u001b[39m\u001b[38;5;124m\"\u001b[39m\u001b[38;5;124m]\u001b[39m\u001b[38;5;124m'\u001b[39m)\u001b[38;5;241m.\u001b[39mclick()\n\u001b[1;32m     29\u001b[0m \u001b[38;5;28;01mtry\u001b[39;00m:\n\u001b[1;32m     30\u001b[0m     driver\u001b[38;5;241m.\u001b[39mfind_element(\u001b[38;5;124m'\u001b[39m\u001b[38;5;124mxpath\u001b[39m\u001b[38;5;124m'\u001b[39m, \u001b[38;5;124m'\u001b[39m\u001b[38;5;124m//button[@aria-label=\u001b[39m\u001b[38;5;124m\"\u001b[39m\u001b[38;5;124mclose\u001b[39m\u001b[38;5;124m\"\u001b[39m\u001b[38;5;124m]\u001b[39m\u001b[38;5;124m'\u001b[39m)\u001b[38;5;241m.\u001b[39mclick()\n",
      "File \u001b[0;32m~/anaconda3/lib/python3.11/site-packages/selenium/webdriver/remote/webdriver.py:741\u001b[0m, in \u001b[0;36mWebDriver.find_element\u001b[0;34m(self, by, value)\u001b[0m\n\u001b[1;32m    738\u001b[0m     by \u001b[38;5;241m=\u001b[39m By\u001b[38;5;241m.\u001b[39mCSS_SELECTOR\n\u001b[1;32m    739\u001b[0m     value \u001b[38;5;241m=\u001b[39m \u001b[38;5;124mf\u001b[39m\u001b[38;5;124m'\u001b[39m\u001b[38;5;124m[name=\u001b[39m\u001b[38;5;124m\"\u001b[39m\u001b[38;5;132;01m{\u001b[39;00mvalue\u001b[38;5;132;01m}\u001b[39;00m\u001b[38;5;124m\"\u001b[39m\u001b[38;5;124m]\u001b[39m\u001b[38;5;124m'\u001b[39m\n\u001b[0;32m--> 741\u001b[0m \u001b[38;5;28;01mreturn\u001b[39;00m \u001b[38;5;28mself\u001b[39m\u001b[38;5;241m.\u001b[39mexecute(Command\u001b[38;5;241m.\u001b[39mFIND_ELEMENT, {\u001b[38;5;124m\"\u001b[39m\u001b[38;5;124musing\u001b[39m\u001b[38;5;124m\"\u001b[39m: by, \u001b[38;5;124m\"\u001b[39m\u001b[38;5;124mvalue\u001b[39m\u001b[38;5;124m\"\u001b[39m: value})[\u001b[38;5;124m\"\u001b[39m\u001b[38;5;124mvalue\u001b[39m\u001b[38;5;124m\"\u001b[39m]\n",
      "File \u001b[0;32m~/anaconda3/lib/python3.11/site-packages/selenium/webdriver/remote/webdriver.py:347\u001b[0m, in \u001b[0;36mWebDriver.execute\u001b[0;34m(self, driver_command, params)\u001b[0m\n\u001b[1;32m    345\u001b[0m response \u001b[38;5;241m=\u001b[39m \u001b[38;5;28mself\u001b[39m\u001b[38;5;241m.\u001b[39mcommand_executor\u001b[38;5;241m.\u001b[39mexecute(driver_command, params)\n\u001b[1;32m    346\u001b[0m \u001b[38;5;28;01mif\u001b[39;00m response:\n\u001b[0;32m--> 347\u001b[0m     \u001b[38;5;28mself\u001b[39m\u001b[38;5;241m.\u001b[39merror_handler\u001b[38;5;241m.\u001b[39mcheck_response(response)\n\u001b[1;32m    348\u001b[0m     response[\u001b[38;5;124m\"\u001b[39m\u001b[38;5;124mvalue\u001b[39m\u001b[38;5;124m\"\u001b[39m] \u001b[38;5;241m=\u001b[39m \u001b[38;5;28mself\u001b[39m\u001b[38;5;241m.\u001b[39m_unwrap_value(response\u001b[38;5;241m.\u001b[39mget(\u001b[38;5;124m\"\u001b[39m\u001b[38;5;124mvalue\u001b[39m\u001b[38;5;124m\"\u001b[39m, \u001b[38;5;28;01mNone\u001b[39;00m))\n\u001b[1;32m    349\u001b[0m     \u001b[38;5;28;01mreturn\u001b[39;00m response\n",
      "File \u001b[0;32m~/anaconda3/lib/python3.11/site-packages/selenium/webdriver/remote/errorhandler.py:229\u001b[0m, in \u001b[0;36mErrorHandler.check_response\u001b[0;34m(self, response)\u001b[0m\n\u001b[1;32m    227\u001b[0m         alert_text \u001b[38;5;241m=\u001b[39m value[\u001b[38;5;124m\"\u001b[39m\u001b[38;5;124malert\u001b[39m\u001b[38;5;124m\"\u001b[39m]\u001b[38;5;241m.\u001b[39mget(\u001b[38;5;124m\"\u001b[39m\u001b[38;5;124mtext\u001b[39m\u001b[38;5;124m\"\u001b[39m)\n\u001b[1;32m    228\u001b[0m     \u001b[38;5;28;01mraise\u001b[39;00m exception_class(message, screen, stacktrace, alert_text)  \u001b[38;5;66;03m# type: ignore[call-arg]  # mypy is not smart enough here\u001b[39;00m\n\u001b[0;32m--> 229\u001b[0m \u001b[38;5;28;01mraise\u001b[39;00m exception_class(message, screen, stacktrace)\n",
      "\u001b[0;31mNoSuchElementException\u001b[0m: Message: no such element: Unable to locate element: {\"method\":\"xpath\",\"selector\":\"//a[@data-testid=\"pagination-page-next\"]\"}\n  (Session info: chrome-headless-shell=125.0.6422.142); For documentation on this error, please visit: https://www.selenium.dev/documentation/webdriver/troubleshooting/errors#no-such-element-exception\nStacktrace:\n0   chromedriver                        0x00000001028376b8 chromedriver + 6149816\n1   chromedriver                        0x000000010282ecda chromedriver + 6114522\n2   chromedriver                        0x00000001022bbd5c chromedriver + 400732\n3   chromedriver                        0x0000000102308aa5 chromedriver + 715429\n4   chromedriver                        0x0000000102308bf1 chromedriver + 715761\n5   chromedriver                        0x000000010234ddd4 chromedriver + 998868\n6   chromedriver                        0x000000010232bcdd chromedriver + 859357\n7   chromedriver                        0x000000010234b0db chromedriver + 987355\n8   chromedriver                        0x000000010232ba53 chromedriver + 858707\n9   chromedriver                        0x00000001022fb6d5 chromedriver + 661205\n10  chromedriver                        0x00000001022fbf6e chromedriver + 663406\n11  chromedriver                        0x00000001027f8cf0 chromedriver + 5893360\n12  chromedriver                        0x00000001027fe4bc chromedriver + 5915836\n13  chromedriver                        0x00000001027da8b4 chromedriver + 5769396\n14  chromedriver                        0x00000001027fef89 chromedriver + 5918601\n15  chromedriver                        0x00000001027cbec4 chromedriver + 5709508\n16  chromedriver                        0x000000010281f008 chromedriver + 6049800\n17  chromedriver                        0x000000010281f1c7 chromedriver + 6050247\n18  chromedriver                        0x000000010282e88e chromedriver + 6113422\n19  libsystem_pthread.dylib             0x00007fff2043b8fc _pthread_start + 224\n20  libsystem_pthread.dylib             0x00007fff20437443 thread_start + 15\n"
     ]
    }
   ],
   "source": [
    "if pages!=None:\n",
    "    page = 1\n",
    "    while(True):\n",
    "        print('Page: '+str(page))\n",
    "        for i in tqdm(driver.find_elements('xpath', '//div[@data-testid=\"slider_item\"]')):\n",
    "            i.click()\n",
    "            time.sleep(2)\n",
    "            sel = Selector(text=driver.page_source)\n",
    "            job_list = []\n",
    "            jobs['Title'].append(sel.xpath('//h2[@data-testid=\"jobsearch-JobInfoHeader-title\"]/span/text()').extract_first())\n",
    "            jobs['Location'].append(sel.xpath('//div[@data-testid=\"inlineHeader-companyLocation\"]/div/text()').extract_first())\n",
    "            jobs['Salary'].append(sel.xpath('//div[@id=\"salaryInfoAndJobType\"]/span/text()').extract_first())\n",
    "            for j in sel.xpath('//li[@data-testid=\"list-item\"]')[1:]:\n",
    "                job_list.append(j.xpath('.//div/text()').extract_first())\n",
    "            try:\n",
    "                jobs['Job Type1'].append(job_list[0])\n",
    "            except:\n",
    "                jobs['Job Type1'].append(None)\n",
    "            try:\n",
    "                jobs['Job Type2'].append(job_list[1])\n",
    "            except:\n",
    "                jobs['Job Type2'].append(None)\n",
    "            try:\n",
    "                jobs['Job Type3'].append(job_list[2])\n",
    "            except:\n",
    "                jobs['Job Type3'].append(None)\n",
    "            jobs['Job Description'].append(sel.xpath('//div[@id=\"jobDescriptionText\"]/p/text()').extract())\n",
    "        driver.find_element('xpath', '//a[@data-testid=\"pagination-page-next\"]').click()\n",
    "        try:\n",
    "            driver.find_element('xpath', '//button[@aria-label=\"close\"]').click()\n",
    "        except:\n",
    "            pass\n",
    "        page+=1\n",
    "else:\n",
    "    pass"
   ]
  },
  {
   "cell_type": "code",
   "execution_count": 12,
   "id": "eba1921b-8c4a-43ef-8b5e-1883b7a5eb23",
   "metadata": {},
   "outputs": [],
   "source": [
    "df = pd.DataFrame(jobs)"
   ]
  },
  {
   "cell_type": "code",
   "execution_count": 14,
   "id": "f22ba96b-3767-4a38-bd91-f470d7218f5e",
   "metadata": {},
   "outputs": [],
   "source": [
    "df.to_csv('jobs_data.csv', index=False)"
   ]
  }
 ],
 "metadata": {
  "kernelspec": {
   "display_name": "Python 3 (ipykernel)",
   "language": "python",
   "name": "python3"
  },
  "language_info": {
   "codemirror_mode": {
    "name": "ipython",
    "version": 3
   },
   "file_extension": ".py",
   "mimetype": "text/x-python",
   "name": "python",
   "nbconvert_exporter": "python",
   "pygments_lexer": "ipython3",
   "version": "3.11.3"
  }
 },
 "nbformat": 4,
 "nbformat_minor": 5
}
